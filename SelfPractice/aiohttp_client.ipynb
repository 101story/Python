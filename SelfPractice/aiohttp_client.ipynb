{
 "cells": [
  {
   "cell_type": "markdown",
   "metadata": {},
   "source": [
    "# aiohttp"
   ]
  },
  {
   "cell_type": "code",
   "execution_count": null,
   "metadata": {},
   "outputs": [],
   "source": [
    "%pip install aiohttp"
   ]
  },
  {
   "cell_type": "code",
   "execution_count": null,
   "metadata": {},
   "outputs": [
    {
     "name": "stdout",
     "output_type": "stream",
     "text": [
      "Defaulting to user installation because normal site-packages is not writeable\n",
      "Requirement already satisfied: nest_asyncio in /Users/vuno/Library/Python/3.9/lib/python/site-packages (1.5.6)\n",
      "\u001b[33mWARNING: You are using pip version 21.2.4; however, version 22.3 is available.\n",
      "You should consider upgrading via the '/Library/Developer/CommandLineTools/usr/bin/python3 -m pip install --upgrade pip' command.\u001b[0m\n",
      "Note: you may need to restart the kernel to use updated packages.\n"
     ]
    }
   ],
   "source": [
    "# 주피터 노트북에서 실습하시는 분들\n",
    "%pip install nest_asyncio\n",
    "\n",
    "import nest_asyncio\n",
    "nest_asyncio.apply()\n",
    "\n",
    "#주피터 노트북은 자체적으로 이벤트 루프를 사용하고 있고 이러한 루프들은 중첩되지 않는다고 합니다."
   ]
  },
  {
   "cell_type": "code",
   "execution_count": null,
   "metadata": {},
   "outputs": [
    {
     "name": "stdout",
     "output_type": "stream",
     "text": [
      "Status:  200\n",
      "Content-type: text/plain; charset=utf-8\n",
      "Body: Hello, Anonymou ...\n"
     ]
    }
   ],
   "source": [
    "import aiohttp\n",
    "import asyncio\n",
    "\n",
    "async def main():\n",
    "    async with aiohttp.ClientSession() as session:\n",
    "        async with session.get('http://0.0.0.0:8080') as response:\n",
    "            print('Status: ', response.status)\n",
    "            print(\"Content-type:\", response.headers['content-type'])\n",
    "\n",
    "            html = await response.text()\n",
    "            print(\"Body:\", html[:15], \"...\")\n",
    "\n",
    "loop = asyncio.get_event_loop()\n",
    "loop.run_until_complete(main())"
   ]
  },
  {
   "cell_type": "markdown",
   "metadata": {},
   "source": [
    "# Asyncio"
   ]
  },
  {
   "cell_type": "markdown",
   "metadata": {},
   "source": [
    "[coroutine drain()](https://docs.python.org/3/library/asyncio-stream.html#asyncio.StreamWriter.drain)"
   ]
  },
  {
   "cell_type": "code",
   "execution_count": 1,
   "metadata": {},
   "outputs": [],
   "source": [
    "import asyncio\n",
    "from random import random \n",
    "\n",
    "async def run_client(host: str, port:int):\n",
    "    # 서버와의 연결을 생성합니다.\n",
    "    reader: asyncio.StreamReader\n",
    "    writer: asyncio.StreamWriter\n",
    "    reader, writer = await asyncio.open_connection(host, port)\n",
    "\n",
    "    line = input(\"[C] enter message: \")\n",
    "    encoded_line = line.encode()\n",
    "    # 스트림에 기록하는 것이 가능해질 때까지 기다림 blocking callable \n",
    "    writer.write(encoded_line)\n",
    "    await writer.drain()\n",
    "    print(f' sent : {line} bytes: {len(encoded_line)}')\n",
    "\n",
    "    # 서버로부터 받은 응답\n",
    "    data = await reader.read(1024) \n",
    "    print(f\"message: {data.decode()} bytes: {len(data)}\")\n",
    "    \n",
    "    writer.close()\n",
    "    await writer.wait_closed()\n",
    "    print(\"========= close connection ========\")"
   ]
  },
  {
   "cell_type": "code",
   "execution_count": 6,
   "metadata": {},
   "outputs": [
    {
     "name": "stdout",
     "output_type": "stream",
     "text": [
      " sent : hihihihi bytes: 8\n",
      "message: ihihihih bytes: 8\n",
      "========= close connection ========\n"
     ]
    }
   ],
   "source": [
    "# asyncio.run(await run_client(\"127.0.0.1\", 7001))\n",
    "await run_client(\"127.0.0.1\", 7001)"
   ]
  },
  {
   "cell_type": "code",
   "execution_count": null,
   "metadata": {},
   "outputs": [],
   "source": []
  }
 ],
 "metadata": {
  "kernelspec": {
   "display_name": "Python 3.9.6 64-bit",
   "language": "python",
   "name": "python3"
  },
  "language_info": {
   "codemirror_mode": {
    "name": "ipython",
    "version": 3
   },
   "file_extension": ".py",
   "mimetype": "text/x-python",
   "name": "python",
   "nbconvert_exporter": "python",
   "pygments_lexer": "ipython3",
   "version": "3.9.6"
  },
  "orig_nbformat": 4,
  "vscode": {
   "interpreter": {
    "hash": "31f2aee4e71d21fbe5cf8b01ff0e069b9275f58929596ceb00d14d90e3e16cd6"
   }
  }
 },
 "nbformat": 4,
 "nbformat_minor": 2
}
