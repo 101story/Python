{
 "cells": [
  {
   "cell_type": "code",
   "execution_count": 2,
   "metadata": {},
   "outputs": [],
   "source": [
    "from IPython.core.interactiveshell import InteractiveShell\n",
    "InteractiveShell.ast_node_interactivity = \"all\""
   ]
  },
  {
   "cell_type": "markdown",
   "metadata": {},
   "source": [
    "# classmethod vs staticmethod "
   ]
  },
  {
   "cell_type": "markdown",
   "metadata": {},
   "source": [
    "출처 : https://dongwooklee96.github.io/post/2021/03/03/%ED%8C%8C%EC%9D%B4%EC%8D%AC-classmethod%EC%99%80-staticmethod-%EC%B0%A8%EC%9D%B4/\n"
   ]
  },
  {
   "cell_type": "code",
   "execution_count": 3,
   "metadata": {
    "tags": []
   },
   "outputs": [
    {
     "data": {
      "text/plain": [
       "'엄마'"
      ]
     },
     "execution_count": 3,
     "metadata": {},
     "output_type": "execute_result"
    },
    {
     "data": {
      "text/plain": [
       "'아빠'"
      ]
     },
     "execution_count": 3,
     "metadata": {},
     "output_type": "execute_result"
    }
   ],
   "source": [
    "class Person:\n",
    "    default= \"아빠\"\n",
    "\n",
    "    def __init__(self):\n",
    "        self.data = self.default\n",
    "\n",
    "    @classmethod\n",
    "    def class_person(cls):\n",
    "        return cls()\n",
    "\n",
    "    @staticmethod\n",
    "    def static_person():\n",
    "        return Person()\n",
    "\n",
    "class WhatPerson(Person):\n",
    "    default = \"엄마\"\n",
    "\n",
    "person1 = WhatPerson.class_person()    # return 엄마\n",
    "person2 = WhatPerson.static_person()   # return 아빠\n",
    "\n",
    "person1.default\n",
    "person2.default"
   ]
  },
  {
   "cell_type": "code",
   "execution_count": 8,
   "metadata": {
    "tags": []
   },
   "outputs": [
    {
     "data": {
      "text/plain": [
       "'엄마'"
      ]
     },
     "execution_count": 8,
     "metadata": {},
     "output_type": "execute_result"
    },
    {
     "data": {
      "text/plain": [
       "'아빠'"
      ]
     },
     "execution_count": 8,
     "metadata": {},
     "output_type": "execute_result"
    }
   ],
   "source": [
    "class Person:\n",
    "    default= \"아빠\"\n",
    "\n",
    "    def __init__(self):\n",
    "        self.data = self.default\n",
    "\n",
    "class WhatPerson(Person):\n",
    "    default = \"엄마\"\n",
    "\n",
    "    @classmethod\n",
    "    def class_person(cls):\n",
    "        return cls()\n",
    "\n",
    "    @staticmethod\n",
    "    def static_person():\n",
    "        return Person()\n",
    "\n",
    "\n",
    "person1 = WhatPerson.class_person()    \n",
    "person2 = WhatPerson.static_person()   \n",
    "\n",
    "person1.default\n",
    "person2.default"
   ]
  },
  {
   "cell_type": "code",
   "execution_count": null,
   "metadata": {},
   "outputs": [],
   "source": []
  }
 ],
 "metadata": {
  "kernelspec": {
   "display_name": "Python 3.9.6 64-bit",
   "language": "python",
   "name": "python3"
  },
  "language_info": {
   "codemirror_mode": {
    "name": "ipython",
    "version": 3
   },
   "file_extension": ".py",
   "mimetype": "text/x-python",
   "name": "python",
   "nbconvert_exporter": "python",
   "pygments_lexer": "ipython3",
   "version": "3.9.6"
  },
  "orig_nbformat": 4,
  "vscode": {
   "interpreter": {
    "hash": "31f2aee4e71d21fbe5cf8b01ff0e069b9275f58929596ceb00d14d90e3e16cd6"
   }
  }
 },
 "nbformat": 4,
 "nbformat_minor": 2
}
