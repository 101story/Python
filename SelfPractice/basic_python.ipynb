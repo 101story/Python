{
 "cells": [
  {
   "cell_type": "code",
   "execution_count": 1,
   "metadata": {},
   "outputs": [],
   "source": [
    "from IPython.core.interactiveshell import InteractiveShell\n",
    "InteractiveShell.ast_node_interactivity = \"all\""
   ]
  },
  {
   "attachments": {},
   "cell_type": "markdown",
   "metadata": {},
   "source": [
    "# classmethod vs staticmethod "
   ]
  },
  {
   "cell_type": "code",
   "execution_count": 3,
   "metadata": {
    "tags": []
   },
   "outputs": [
    {
     "data": {
      "text/plain": [
       "'엄마'"
      ]
     },
     "execution_count": 3,
     "metadata": {},
     "output_type": "execute_result"
    },
    {
     "data": {
      "text/plain": [
       "'아빠'"
      ]
     },
     "execution_count": 3,
     "metadata": {},
     "output_type": "execute_result"
    }
   ],
   "source": [
    "class Person:\n",
    "    default= \"아빠\"\n",
    "\n",
    "    def __init__(self):\n",
    "        self.data = self.default\n",
    "\n",
    "    @classmethod\n",
    "    def class_person(cls):\n",
    "        return cls()\n",
    "\n",
    "    @staticmethod\n",
    "    def static_person():\n",
    "        return Person()\n",
    "\n",
    "class WhatPerson(Person):\n",
    "    default = \"엄마\"\n",
    "\n",
    "person1 = WhatPerson.class_person()    # return 엄마\n",
    "person2 = WhatPerson.static_person()   # return 아빠\n",
    "\n",
    "person1.default\n",
    "person2.default"
   ]
  },
  {
   "cell_type": "code",
   "execution_count": 8,
   "metadata": {
    "tags": []
   },
   "outputs": [
    {
     "data": {
      "text/plain": [
       "'엄마'"
      ]
     },
     "execution_count": 8,
     "metadata": {},
     "output_type": "execute_result"
    },
    {
     "data": {
      "text/plain": [
       "'아빠'"
      ]
     },
     "execution_count": 8,
     "metadata": {},
     "output_type": "execute_result"
    }
   ],
   "source": [
    "class Person:\n",
    "    default= \"아빠\"\n",
    "\n",
    "    def __init__(self):\n",
    "        self.data = self.default\n",
    "\n",
    "class WhatPerson(Person):\n",
    "    default = \"엄마\"\n",
    "\n",
    "    @classmethod\n",
    "    def class_person(cls):\n",
    "        return cls()\n",
    "\n",
    "    @staticmethod\n",
    "    def static_person():\n",
    "        return Person()\n",
    "\n",
    "\n",
    "person1 = WhatPerson.class_person()    \n",
    "person2 = WhatPerson.static_person()   \n",
    "\n",
    "person1.default\n",
    "person2.default"
   ]
  },
  {
   "attachments": {},
   "cell_type": "markdown",
   "metadata": {},
   "source": [
    "# Inner function"
   ]
  },
  {
   "attachments": {},
   "cell_type": "markdown",
   "metadata": {},
   "source": [
    "## 클로저(closure)의 개념\n",
    "\n",
    "https://poiemaweb.com/js-closure\n",
    "\n",
    "“A closure is the combination of a function and the lexical environment within which that function was declared.”\n",
    "\n",
    "클로저는 함수와 그 함수가 선언됐을 때의 렉시컬 환경(Lexical environment)과의 조합이다.\n",
    "\n",
    "### 렉시컬 스코프"
   ]
  },
  {
   "cell_type": "code",
   "execution_count": 2,
   "metadata": {},
   "outputs": [
    {
     "name": "stdout",
     "output_type": "stream",
     "text": [
      "1\n",
      "1\n"
     ]
    }
   ],
   "source": [
    "x = 1\n",
    "\n",
    "#  동적 스코프(Dynamic scope)\n",
    "def foo(): \n",
    "  x = 10\n",
    "  bar()\n",
    "\n",
    "# 렉시컬 스코프(Lexical scope) 또는 정적 스코프(Static scope)\n",
    "def bar():\n",
    "  print(x)\n",
    "\n",
    "\n",
    "foo()\n",
    "bar()\n"
   ]
  },
  {
   "attachments": {},
   "cell_type": "markdown",
   "metadata": {},
   "source": [
    "1. 함수를 어디서 호출하였는지에 따라 상위 스코프를 결정하는 것\n",
    "2. 함수를 어디서 선언하였는지에 따라 상위 스코프를 결정하는 것\n",
    "\n",
    "대부분의 프로그래밍 언어는 렉시컬 스코프를 따른다.\n",
    "\n",
    "렉시컬 스코프는 함수를 어디서 호출하는지가 아니라 어디에 선언하였는지에 따라 결정된다"
   ]
  },
  {
   "attachments": {},
   "cell_type": "markdown",
   "metadata": {},
   "source": [
    "## 클로저 정의 \n",
    "\n",
    "클로저는 반환된 내부함수가 자신이 선언됐을 때의 환경(Lexical environment)인 스코프를 기억하여 자신이 선언됐을 때의 환경(스코프) 밖에서 호출되어도 그 환경(스코프)에 접근할 수 있는 함수\n",
    "\n",
    "즉 클로저는 자신이 생성될 때의 환경(Lexical environment)을 기억하는 함수다"
   ]
  },
  {
   "cell_type": "code",
   "execution_count": 9,
   "metadata": {},
   "outputs": [
    {
     "name": "stdout",
     "output_type": "stream",
     "text": [
      "10\n"
     ]
    }
   ],
   "source": [
    "def outerFunc():\n",
    "    x = 10\n",
    "    innerFunc = lambda: print(x) \n",
    "    return innerFunc\n",
    "\n",
    "\n",
    "'''\n",
    " *  함수 outerFunc를 호출하면 내부 함수 innerFunc가 반환된다.\n",
    " *  그리고 함수 outerFunc의 실행 컨텍스트는 소멸한다.\n",
    "'''\n",
    "inner = outerFunc()\n",
    "inner() # 10"
   ]
  },
  {
   "attachments": {},
   "cell_type": "markdown",
   "metadata": {},
   "source": [
    "## decorator    "
   ]
  },
  {
   "cell_type": "code",
   "execution_count": 12,
   "metadata": {},
   "outputs": [
    {
     "name": "stdout",
     "output_type": "stream",
     "text": [
      "This is my first decorator\n",
      "hello world\n",
      "Bye!\n"
     ]
    }
   ],
   "source": [
    "def add_messages(func):\n",
    "    def _add_messages():\n",
    "        print(\"This is my first decorator\")\n",
    "        func()\n",
    "        print(\"Bye!\")\n",
    "    return _add_messages\n",
    "\n",
    "@add_messages\n",
    "def greet():\n",
    "    print(\"hello world\")\n",
    "    \n",
    "greet()"
   ]
  },
  {
   "cell_type": "code",
   "execution_count": 18,
   "metadata": {},
   "outputs": [
    {
     "data": {
      "text/plain": [
       "4"
      ]
     },
     "execution_count": 18,
     "metadata": {},
     "output_type": "execute_result"
    },
    {
     "data": {
      "text/plain": [
       "81"
      ]
     },
     "execution_count": 18,
     "metadata": {},
     "output_type": "execute_result"
    },
    {
     "data": {
      "text/plain": [
       "81"
      ]
     },
     "execution_count": 18,
     "metadata": {},
     "output_type": "execute_result"
    },
    {
     "data": {
      "text/plain": [
       "{'__module__': '__main__',\n",
       " '__doc__': 'Instances where methods are implemented as closures',\n",
       " '__dict__': <attribute '__dict__' of 'Instance' objects>,\n",
       " '__weakref__': <attribute '__weakref__' of 'Instance' objects>,\n",
       " '__bool__': <function __main__.<lambda>(self, *args, sm='__bool__')>,\n",
       " '__int__': <function __main__.<lambda>(self, *args, sm='__int__')>,\n",
       " '__float__': <function __main__.<lambda>(self, *args, sm='__float__')>,\n",
       " '__complex__': <function __main__.<lambda>(self, *args, sm='__complex__')>,\n",
       " '__index__': <function __main__.<lambda>(self, *args, sm='__index__')>,\n",
       " '__len__': <function __main__.<lambda>(self, *args, sm='__len__')>,\n",
       " '__getitem__': <function __main__.<lambda>(self, *args, sm='__getitem__')>,\n",
       " '__setitem__': <function __main__.<lambda>(self, *args, sm='__setitem__')>,\n",
       " '__delitem__': <function __main__.<lambda>(self, *args, sm='__delitem__')>,\n",
       " '__contains__': <function __main__.<lambda>(self, *args, sm='__contains__')>,\n",
       " '__iter__': <function __main__.<lambda>(self, *args, sm='__iter__')>,\n",
       " '__next__': <function __main__.<lambda>(self, *args, sm='__next__')>,\n",
       " '__reversed__': <function __main__.<lambda>(self, *args, sm='__reversed__')>,\n",
       " '__call__': <function __main__.<lambda>(self, *args, sm='__call__')>,\n",
       " '__enter__': <function __main__.<lambda>(self, *args, sm='__enter__')>,\n",
       " '__exit__': <function __main__.<lambda>(self, *args, sm='__exit__')>,\n",
       " '__str__': <function __main__.<lambda>(self, *args, sm='__str__')>,\n",
       " '__repr__': <function __main__.<lambda>(self, *args, sm='__repr__')>,\n",
       " '__bytes__': <function __main__.<lambda>(self, *args, sm='__bytes__')>,\n",
       " '__format__': <function __main__.<lambda>(self, *args, sm='__format__')>,\n",
       " '__eq__': <function __main__.<lambda>(self, *args, sm='__eq__')>,\n",
       " '__ne__': <function __main__.<lambda>(self, *args, sm='__ne__')>,\n",
       " '__lt__': <function __main__.<lambda>(self, *args, sm='__lt__')>,\n",
       " '__le__': <function __main__.<lambda>(self, *args, sm='__le__')>,\n",
       " '__gt__': <function __main__.<lambda>(self, *args, sm='__gt__')>,\n",
       " '__ge__': <function __main__.<lambda>(self, *args, sm='__ge__')>,\n",
       " '__hash__': <function __main__.<lambda>(self, *args, sm='__hash__')>,\n",
       " '__add__': <function __main__.<lambda>(self, *args, sm='__add__')>,\n",
       " '__mul__': <function __main__.<lambda>(self, *args, sm='__mul__')>,\n",
       " '__sub__': <function __main__.<lambda>(self, *args, sm='__sub__')>,\n",
       " '__truediv__': <function __main__.<lambda>(self, *args, sm='__truediv__')>,\n",
       " '__floordiv__': <function __main__.<lambda>(self, *args, sm='__floordiv__')>,\n",
       " '__mod__': <function __main__.<lambda>(self, *args, sm='__mod__')>,\n",
       " '__and__': <function __main__.<lambda>(self, *args, sm='__and__')>,\n",
       " '__or__': <function __main__.<lambda>(self, *args, sm='__or__')>,\n",
       " '__xor__': <function __main__.<lambda>(self, *args, sm='__xor__')>,\n",
       " '__invert__': <function __main__.<lambda>(self, *args, sm='__invert__')>,\n",
       " '__lshift__': <function __main__.<lambda>(self, *args, sm='__lshift__')>,\n",
       " '__rshift__': <function __main__.<lambda>(self, *args, sm='__rshift__')>,\n",
       " '__pos__': <function __main__.<lambda>(self, *args, sm='__pos__')>,\n",
       " '__neg__': <function __main__.<lambda>(self, *args, sm='__neg__')>,\n",
       " '__abs__': <function __main__.<lambda>(self, *args, sm='__abs__')>,\n",
       " '__pow__': <function __main__.<lambda>(self, *args, sm='__pow__')>,\n",
       " '__divmod__': <function __main__.<lambda>(self, *args, sm='__divmod__')>,\n",
       " '__round__': <function __main__.<lambda>(self, *args, sm='__round__')>,\n",
       " '__ceil__': <function __main__.<lambda>(self, *args, sm='__ceil__')>,\n",
       " '__floor__': <function __main__.<lambda>(self, *args, sm='__floor__')>,\n",
       " '__trunc__': <function __main__.<lambda>(self, *args, sm='__trunc__')>,\n",
       " '__radd__': <function __main__.<lambda>(self, *args, sm='__radd__')>,\n",
       " '__rmul__': <function __main__.<lambda>(self, *args, sm='__rmul__')>,\n",
       " '__rsub__': <function __main__.<lambda>(self, *args, sm='__rsub__')>,\n",
       " '__rtruediv__': <function __main__.<lambda>(self, *args, sm='__rtruediv__')>,\n",
       " '__rfloordiv__': <function __main__.<lambda>(self, *args, sm='__rfloordiv__')>,\n",
       " '__rmod__': <function __main__.<lambda>(self, *args, sm='__rmod__')>,\n",
       " '__rand__': <function __main__.<lambda>(self, *args, sm='__rand__')>,\n",
       " '__ror__': <function __main__.<lambda>(self, *args, sm='__ror__')>,\n",
       " '__rxor__': <function __main__.<lambda>(self, *args, sm='__rxor__')>,\n",
       " '__rlshift__': <function __main__.<lambda>(self, *args, sm='__rlshift__')>,\n",
       " '__rrshift__': <function __main__.<lambda>(self, *args, sm='__rrshift__')>,\n",
       " '__rpow__': <function __main__.<lambda>(self, *args, sm='__rpow__')>,\n",
       " '__rdivmod__': <function __main__.<lambda>(self, *args, sm='__rdivmod__')>,\n",
       " '__get__': <function __main__.<lambda>(self, *args, sm='__get__')>,\n",
       " '__set__': <function __main__.<lambda>(self, *args, sm='__set__')>,\n",
       " '__delete__': <function __main__.<lambda>(self, *args, sm='__delete__')>,\n",
       " '__copy__': <function __main__.<lambda>(self, *args, sm='__copy__')>,\n",
       " '__deepcopy__': <function __main__.<lambda>(self, *args, sm='__deepcopy__')>,\n",
       " '__reduce__': <function __main__.<lambda>(self, *args, sm='__reduce__')>,\n",
       " '__reduce_ex__': <function __main__.<lambda>(self, *args, sm='__reduce_ex__')>,\n",
       " '__getstate__': <function __main__.<lambda>(self, *args, sm='__getstate__')>,\n",
       " '__setstate__': <function __main__.<lambda>(self, *args, sm='__setstate__')>,\n",
       " '__getnewargs__': <function __main__.<lambda>(self, *args, sm='__getnewargs__')>,\n",
       " '__getinitargs__': <function __main__.<lambda>(self, *args, sm='__getinitargs__')>,\n",
       " '__subclasshook__': <function __main__.<lambda>(self, *args, sm='__subclasshook__')>,\n",
       " '__subclasscheck__': <function __main__.<lambda>(self, *args, sm='__subclasscheck__')>,\n",
       " '__instancecheck__': <function __main__.<lambda>(self, *args, sm='__instancecheck__')>,\n",
       " '__dir__': <function __main__.<lambda>(self, *args, sm='__dir__')>,\n",
       " '__sizeof__': <function __main__.<lambda>(self, *args, sm='__sizeof__')>}"
      ]
     },
     "execution_count": 18,
     "metadata": {},
     "output_type": "execute_result"
    }
   ],
   "source": [
    "import sys\n",
    "class Instance:\n",
    "    'Instances where methods are implemented as closures'\n",
    "\n",
    "smethods =  '''__bool__ __int__ __float__ __complex__ __index__\n",
    "__len__ __getitem__ __setitem__ __delitem__ __contains__\n",
    "__iter__ __next__ __reversed__\n",
    "__call__ __enter__ __exit__\n",
    "__str__ __repr__  __bytes__ __format__\n",
    "__eq__ __ne__ __lt__ __le__ __gt__ __ge__ __hash__\n",
    "__add__ __mul__ __sub__ __truediv__ __floordiv__ __mod__\n",
    "__and__ __or__ __xor__ __invert__ __lshift__ __rshift__\n",
    "__pos__ __neg__ __abs__ __pow__ __divmod__\n",
    "__round__ __ceil__ __floor__ __trunc__\n",
    "__radd__ __rmul__ __rsub__ __rtruediv__ __rfloordiv__ __rmod__\n",
    "__rand__ __ror__ __rxor__ __rlshift__ __rrshift__\n",
    "__rpow__ __rdivmod__\n",
    "__get__ __set__ __delete__\n",
    "__copy__ __deepcopy__ __reduce__ __reduce_ex__\n",
    "__getstate__ __setstate__ __getnewargs__ __getinitargs__\n",
    "__subclasshook__ __subclasscheck__ __instancecheck__\n",
    "__dir__ __sizeof__\n",
    "'''.split()\n",
    "    \n",
    "\n",
    "len(Instance.__dict__)\n",
    "\n",
    "for sm in smethods:\n",
    "    setattr(\n",
    "        Instance, \n",
    "        sm, \n",
    "        lambda self, *args, sm=sm: self.__dict__[sm](*args)\n",
    "    )\n",
    "    \n",
    "def classify(local_dict=None):\n",
    "    'Move local definitions to an instance dictionary'\n",
    "    o = Instance()\n",
    "    if local_dict is None:\n",
    "        local_dict = sys._getframe(1).f_locals\n",
    "    vars(o).update(local_dict)\n",
    "    return o\n",
    "\n",
    "len(Instance.__dict__)\n",
    "i = classify(Instance.__dict__)\n",
    "len(i.__dict__)\n",
    "i.__dict__"
   ]
  },
  {
   "attachments": {},
   "cell_type": "markdown",
   "metadata": {},
   "source": [
    "sys._getframe Return a frame object from the call stack."
   ]
  },
  {
   "cell_type": "code",
   "execution_count": 24,
   "metadata": {},
   "outputs": [
    {
     "data": {
      "text/plain": [
       "<frame at 0x154ebe4e0, file '/Users/vuno/Library/Python/3.9/lib/python/site-packages/IPython/core/interactiveshell.py', line 3433, code run_code>"
      ]
     },
     "execution_count": 24,
     "metadata": {},
     "output_type": "execute_result"
    },
    {
     "data": {
      "text/plain": [
       "<frame at 0x144e81e40, file '/Users/vuno/Library/Python/3.9/lib/python/site-packages/IPython/core/interactiveshell.py', line 3373, code run_ast_nodes>"
      ]
     },
     "execution_count": 24,
     "metadata": {},
     "output_type": "execute_result"
    },
    {
     "data": {
      "text/plain": [
       "<frame at 0x10c3e5b30, file '/var/folders/8z/mtgz25rn6ql5pz2th83p9ks00000gn/T/ipykernel_86567/5728711.py', line 3, code <module>>"
      ]
     },
     "execution_count": 24,
     "metadata": {},
     "output_type": "execute_result"
    }
   ],
   "source": [
    "sys._getframe(1)\n",
    "sys._getframe(2)\n",
    "sys._getframe()"
   ]
  },
  {
   "attachments": {},
   "cell_type": "markdown",
   "metadata": {},
   "source": [
    "# Quize"
   ]
  },
  {
   "attachments": {},
   "cell_type": "markdown",
   "metadata": {},
   "source": [
    "## 20221123 - 코드의 문제점"
   ]
  },
  {
   "cell_type": "code",
   "execution_count": 25,
   "metadata": {},
   "outputs": [],
   "source": [
    "def bad_function(new_elem, starter_list=[]):\n",
    "    starter_list.append(new_elem)\n",
    "    return starter_list"
   ]
  },
  {
   "attachments": {},
   "cell_type": "markdown",
   "metadata": {},
   "source": [
    "# nested dict 개발"
   ]
  },
  {
   "cell_type": "code",
   "execution_count": 5,
   "metadata": {},
   "outputs": [
    {
     "name": "stdout",
     "output_type": "stream",
     "text": [
      "[{'c': [{'c': [{'c': [], 'id': 31, 'n': 'a'}], 'id': 21, 'n': 'a'}, {'c': [{'c': [], 'id': 32, 'n': 'a'}], 'id': 22, 'n': 'a'}], 'id': 1, 'n': 'a'}]\n"
     ]
    }
   ],
   "source": [
    "tree = \\\n",
    "[{\n",
    "    'c':[{\n",
    "        'c':[{\n",
    "            'c':[],\n",
    "            'id':31,\n",
    "            'n':'a'\n",
    "        }],\n",
    "        'id':21,\n",
    "        'n':'a',\n",
    "        },\n",
    "        {'c':[{\n",
    "            'c':[],\n",
    "            'id':32,\n",
    "            'n':'a'\n",
    "        }],\n",
    "        'id':22,\n",
    "        'n':'a'\n",
    "    }],\n",
    "    'id':1,\n",
    "    'n':'a'\n",
    "}]\n",
    "print(tree)"
   ]
  },
  {
   "cell_type": "code",
   "execution_count": 44,
   "metadata": {},
   "outputs": [
    {
     "name": "stdout",
     "output_type": "stream",
     "text": [
      "[{'c': [{'c': [{'c': [], 'id': 31, 'n': 'a'}], 'id': 21, 'n': 'a'}, {'c': [{'c': [], 'id': 32, 'n': 'a'}], 'id': 22, 'n': 'a'}], 'id': 1, 'n': 'a'}]\n"
     ]
    }
   ],
   "source": [
    "tree2 = \\\n",
    "[{\n",
    "    'c':[{\n",
    "        'c':[{\n",
    "            'c':[],\n",
    "            'id':31,\n",
    "            'n':'a'\n",
    "        }],\n",
    "        'id':21,\n",
    "        'n':'a',\n",
    "        },\n",
    "        {'c':[{\n",
    "            'c':[],\n",
    "            'id':31,\n",
    "            'n':'b'\n",
    "        }],\n",
    "        'id':22,\n",
    "        'n':'a'\n",
    "    }],\n",
    "    'id':1,\n",
    "    'n':'a'\n",
    "}]\n",
    "print(tree)"
   ]
  },
  {
   "cell_type": "code",
   "execution_count": 45,
   "metadata": {},
   "outputs": [
    {
     "data": {
      "text/plain": [
       "[{'c': [{'c': [], 'id': 31, 'n': 'a'}], 'id': 21, 'n': 'a'},\n",
       " {'c': [{'c': [], 'id': 32, 'n': 'a'}], 'id': 22, 'n': 'a'}]"
      ]
     },
     "execution_count": 45,
     "metadata": {},
     "output_type": "execute_result"
    }
   ],
   "source": [
    "tree[0]['c']"
   ]
  },
  {
   "cell_type": "code",
   "execution_count": 49,
   "metadata": {},
   "outputs": [],
   "source": [
    "\n",
    "def expend_tree(d, expeneded_tree):\n",
    "    print(d)\n",
    "    expeneded_tree[d['id']] = d['n']\n",
    "    for child in d['c']:\n",
    "        expend_tree(child, expeneded_tree)"
   ]
  },
  {
   "cell_type": "code",
   "execution_count": 54,
   "metadata": {},
   "outputs": [
    {
     "name": "stdout",
     "output_type": "stream",
     "text": [
      "{'c': [{'c': [{'c': [], 'id': 31, 'n': 'a'}], 'id': 21, 'n': 'a'}, {'c': [{'c': [], 'id': 32, 'n': 'a'}], 'id': 22, 'n': 'a'}], 'id': 1, 'n': 'a'}\n",
      "{'c': [{'c': [], 'id': 31, 'n': 'a'}], 'id': 21, 'n': 'a'}\n",
      "{'c': [], 'id': 31, 'n': 'a'}\n",
      "{'c': [{'c': [], 'id': 32, 'n': 'a'}], 'id': 22, 'n': 'a'}\n",
      "{'c': [], 'id': 32, 'n': 'a'}\n"
     ]
    },
    {
     "data": {
      "text/plain": [
       "{1: 'a', 21: 'a', 31: 'a', 22: 'a', 32: 'a'}"
      ]
     },
     "execution_count": 54,
     "metadata": {},
     "output_type": "execute_result"
    }
   ],
   "source": [
    "expeneded_tree = {}\n",
    "expend_tree(tree[0], expeneded_tree)\n",
    "expeneded_tree"
   ]
  },
  {
   "cell_type": "code",
   "execution_count": 53,
   "metadata": {},
   "outputs": [
    {
     "name": "stdout",
     "output_type": "stream",
     "text": [
      "{'c': [{'c': [{'c': [], 'id': 31, 'n': 'a'}], 'id': 21, 'n': 'a'}, {'c': [{'c': [], 'id': 31, 'n': 'b'}], 'id': 22, 'n': 'a'}], 'id': 1, 'n': 'a'}\n",
      "{'c': [{'c': [], 'id': 31, 'n': 'a'}], 'id': 21, 'n': 'a'}\n",
      "{'c': [], 'id': 31, 'n': 'a'}\n",
      "{'c': [{'c': [], 'id': 31, 'n': 'b'}], 'id': 22, 'n': 'a'}\n",
      "{'c': [], 'id': 31, 'n': 'b'}\n"
     ]
    },
    {
     "data": {
      "text/plain": [
       "{1: 'a', 21: 'a', 31: 'b', 22: 'a'}"
      ]
     },
     "execution_count": 53,
     "metadata": {},
     "output_type": "execute_result"
    }
   ],
   "source": [
    "expeneded_tree = {}\n",
    "expend_tree(tree2[0], expeneded_tree)\n",
    "expeneded_tree"
   ]
  },
  {
   "cell_type": "code",
   "execution_count": 72,
   "metadata": {},
   "outputs": [
    {
     "data": {
      "text/plain": [
       "{1: 'a', 21: 'a', 31: 'a', 22: 'a', 32: 'a'}"
      ]
     },
     "execution_count": 72,
     "metadata": {},
     "output_type": "execute_result"
    },
    {
     "name": "stdout",
     "output_type": "stream",
     "text": [
      "1 a\n",
      "21 a\n",
      "31 a\n",
      "22 a\n",
      "32 a\n"
     ]
    },
    {
     "data": {
      "text/plain": [
       "dict_keys(['c', 'id', 'n'])"
      ]
     },
     "execution_count": 72,
     "metadata": {},
     "output_type": "execute_result"
    },
    {
     "data": {
      "text/plain": [
       "True"
      ]
     },
     "execution_count": 72,
     "metadata": {},
     "output_type": "execute_result"
    }
   ],
   "source": [
    "expeneded_tree\n",
    "for key, name in expeneded_tree.items():\n",
    "    print(key, name)\n",
    "\n",
    "tree[0].keys()\n",
    "set(['id', 'n', 'c']) == set(tree[0].keys())\n"
   ]
  },
  {
   "attachments": {},
   "cell_type": "markdown",
   "metadata": {},
   "source": [
    "# enum"
   ]
  },
  {
   "cell_type": "code",
   "execution_count": 9,
   "metadata": {},
   "outputs": [
    {
     "data": {
      "text/plain": [
       "'a'"
      ]
     },
     "execution_count": 9,
     "metadata": {},
     "output_type": "execute_result"
    },
    {
     "data": {
      "text/plain": [
       "<Test.a: 'a'>"
      ]
     },
     "execution_count": 9,
     "metadata": {},
     "output_type": "execute_result"
    }
   ],
   "source": [
    "from enum import Enum, EnumMeta, unique\n",
    "\n",
    "class TestEnumMeta(EnumMeta):\n",
    "    def __getitem__(self, name):\n",
    "        try:\n",
    "            return super().__getitem__(name).value\n",
    "        except (TypeError, KeyError) as error:\n",
    "            print(\"TEST\")\n",
    "    \n",
    "    def __call__(self, value):\n",
    "        return \n",
    "\n",
    "@unique\n",
    "class Test(Enum, metaclass=TestEnumMeta):\n",
    "    a = \"a\"\n",
    "    b = \"b\"\n",
    "\n",
    "Test[\"a\"]\n",
    "Test.a"
   ]
  },
  {
   "attachments": {},
   "cell_type": "markdown",
   "metadata": {},
   "source": [
    "# yield"
   ]
  },
  {
   "cell_type": "code",
   "execution_count": 3,
   "metadata": {},
   "outputs": [
    {
     "name": "stdout",
     "output_type": "stream",
     "text": [
      "A\n",
      "B\n",
      "C\n"
     ]
    }
   ],
   "source": [
    "def yield_abc():\n",
    "    for c in \"ABC\":\n",
    "        yield c \n",
    "\n",
    "for a in yield_abc():\n",
    "    print(a)"
   ]
  },
  {
   "cell_type": "code",
   "execution_count": 4,
   "metadata": {},
   "outputs": [
    {
     "name": "stdout",
     "output_type": "stream",
     "text": [
      "A\n",
      "B\n",
      "C\n"
     ]
    }
   ],
   "source": [
    "def yield_abc():\n",
    "    yield from \"ABC\"\n",
    "for a in yield_abc():\n",
    "    print(a)"
   ]
  },
  {
   "cell_type": "code",
   "execution_count": 2,
   "metadata": {},
   "outputs": [],
   "source": [
    "from sqlalchemy import (\n",
    "    Integer,\n",
    "    String,\n",
    "    TypeDecorator\n",
    ")\n",
    "\n",
    "class StrEnum(TypeDecorator):\n",
    "    \"\"\"\n",
    "    Enables passing in a Python enum and storing the enum's *value* in the db.\n",
    "    The default would have stored the enum's *name* (ie the string).\n",
    "    \"\"\"\n",
    "    impl = String\n",
    "\n",
    "    def __init__(self, enumtype, *args, **kwargs):\n",
    "        super(StrEnum, self).__init__(*args, **kwargs)\n",
    "        self._enumtype = enumtype\n",
    "\n",
    "    def process_bind_param(self, value, dialect):\n",
    "        if isinstance(value, int):\n",
    "            return value\n",
    "        return value.value\n",
    "\n",
    "    def process_result_value(self, value, dialect):\n",
    "        return self._enumtype(value)"
   ]
  },
  {
   "cell_type": "code",
   "execution_count": 9,
   "metadata": {},
   "outputs": [
    {
     "data": {
      "text/plain": [
       "'M'"
      ]
     },
     "execution_count": 9,
     "metadata": {},
     "output_type": "execute_result"
    },
    {
     "data": {
      "text/plain": [
       "'M'"
      ]
     },
     "execution_count": 9,
     "metadata": {},
     "output_type": "execute_result"
    }
   ],
   "source": [
    "class CustomStrEnum(StrEnum):\n",
    "    MALE='M'\n",
    "\n",
    "CustomStrEnum.MALE\n",
    "str(CustomStrEnum.MALE)"
   ]
  },
  {
   "cell_type": "code",
   "execution_count": 12,
   "metadata": {},
   "outputs": [
    {
     "data": {
      "text/plain": [
       "<NormalStrEnum.MALE: 'M'>"
      ]
     },
     "execution_count": 12,
     "metadata": {},
     "output_type": "execute_result"
    },
    {
     "data": {
      "text/plain": [
       "'NormalStrEnum.MALE'"
      ]
     },
     "execution_count": 12,
     "metadata": {},
     "output_type": "execute_result"
    }
   ],
   "source": [
    "import enum \n",
    "\n",
    "class NormalStrEnum(enum.Enum):\n",
    "    MALE='M'\n",
    "    \n",
    "NormalStrEnum.MALE\n",
    "# str(NormalStrEnum.MALE)"
   ]
  },
  {
   "cell_type": "code",
   "execution_count": 6,
   "metadata": {},
   "outputs": [
    {
     "data": {
      "text/plain": [
       "'1234'"
      ]
     },
     "execution_count": 6,
     "metadata": {},
     "output_type": "execute_result"
    },
    {
     "data": {
      "text/plain": [
       "'67'"
      ]
     },
     "execution_count": 6,
     "metadata": {},
     "output_type": "execute_result"
    },
    {
     "data": {
      "text/plain": [
       "'89'"
      ]
     },
     "execution_count": 6,
     "metadata": {},
     "output_type": "execute_result"
    }
   ],
   "source": [
    "# s = '1234-67-89'\n",
    "s = '12346789'\n",
    "s[0:4]\n",
    "s[4:6]\n",
    "s[6:8]"
   ]
  },
  {
   "cell_type": "code",
   "execution_count": 9,
   "metadata": {},
   "outputs": [
    {
     "data": {
      "text/plain": [
       "True"
      ]
     },
     "execution_count": 9,
     "metadata": {},
     "output_type": "execute_result"
    }
   ],
   "source": [
    "from datetime import date\n",
    "\n",
    "from_date = date(2022, 10, 10)\n",
    "to_date = date(2022, 10, 11)\n",
    "\n",
    "from_date <= to_date\n"
   ]
  },
  {
   "attachments": {},
   "cell_type": "markdown",
   "metadata": {},
   "source": [
    "# Enum\n"
   ]
  },
  {
   "cell_type": "code",
   "execution_count": 4,
   "metadata": {},
   "outputs": [
    {
     "name": "stdout",
     "output_type": "stream",
     "text": [
      "MyEnum.A\n",
      "MyEnum.A\n"
     ]
    },
    {
     "data": {
      "text/plain": [
       "<MyEnum.A: 1>"
      ]
     },
     "execution_count": 4,
     "metadata": {},
     "output_type": "execute_result"
    }
   ],
   "source": [
    "import enum \n",
    "\n",
    "class CustomEnum(enum.Enum):\n",
    "    pass\n",
    "\n",
    "class MyEnum(CustomEnum):\n",
    "    A = 1\n",
    "    B = 1\n",
    "\n",
    "print(MyEnum.A)\n",
    "print(MyEnum.B)\n",
    "MyEnum.A"
   ]
  },
  {
   "cell_type": "code",
   "execution_count": 22,
   "metadata": {},
   "outputs": [
    {
     "name": "stdout",
     "output_type": "stream",
     "text": [
      "Requirement already satisfied: aenum in /Users/vuno/.pyenv/versions/3.10/envs/practice-python/lib/python3.11/site-packages (3.1.11)\n",
      "\n",
      "\u001b[1m[\u001b[0m\u001b[34;49mnotice\u001b[0m\u001b[1;39;49m]\u001b[0m\u001b[39;49m A new release of pip available: \u001b[0m\u001b[31;49m22.3\u001b[0m\u001b[39;49m -> \u001b[0m\u001b[32;49m23.0.1\u001b[0m\n",
      "\u001b[1m[\u001b[0m\u001b[34;49mnotice\u001b[0m\u001b[1;39;49m]\u001b[0m\u001b[39;49m To update, run: \u001b[0m\u001b[32;49mpip install --upgrade pip\u001b[0m\n"
     ]
    }
   ],
   "source": [
    "!pip install aenum"
   ]
  },
  {
   "cell_type": "code",
   "execution_count": 20,
   "metadata": {},
   "outputs": [
    {
     "name": "stdout",
     "output_type": "stream",
     "text": [
      "MyEnum.A\n",
      "MyEnum.B\n"
     ]
    },
    {
     "data": {
      "text/plain": [
       "<MyEnum.A: 1>"
      ]
     },
     "execution_count": 20,
     "metadata": {},
     "output_type": "execute_result"
    },
    {
     "data": {
      "text/plain": [
       "False"
      ]
     },
     "execution_count": 20,
     "metadata": {},
     "output_type": "execute_result"
    },
    {
     "data": {
      "text/plain": [
       "False"
      ]
     },
     "execution_count": 20,
     "metadata": {},
     "output_type": "execute_result"
    },
    {
     "data": {
      "text/plain": [
       "True"
      ]
     },
     "execution_count": 20,
     "metadata": {},
     "output_type": "execute_result"
    },
    {
     "data": {
      "text/plain": [
       "False"
      ]
     },
     "execution_count": 20,
     "metadata": {},
     "output_type": "execute_result"
    },
    {
     "name": "stdout",
     "output_type": "stream",
     "text": [
      "YourEnum.A\n",
      "YourEnum.B\n"
     ]
    },
    {
     "data": {
      "text/plain": [
       "'A'"
      ]
     },
     "execution_count": 20,
     "metadata": {},
     "output_type": "execute_result"
    },
    {
     "data": {
      "text/plain": [
       "1"
      ]
     },
     "execution_count": 20,
     "metadata": {},
     "output_type": "execute_result"
    }
   ],
   "source": [
    "import aenum\n",
    "\n",
    "class CustomEnum(aenum.Enum):\n",
    "    _settings_ = aenum.NoAlias\n",
    "    pass\n",
    "\n",
    "class MyEnum(CustomEnum):\n",
    "    A = 1\n",
    "    B = 1\n",
    "\n",
    "class YourEnum(CustomEnum):\n",
    "    A = 1\n",
    "    B = 1\n",
    "\n",
    "print(MyEnum.A)\n",
    "print(MyEnum.B)\n",
    "MyEnum.A\n",
    "MyEnum.A is MyEnum.B \n",
    "MyEnum.A == MyEnum.B \n",
    "MyEnum.A == MyEnum.A\n",
    "MyEnum.A == 1\n",
    "\n",
    "print(YourEnum.A)\n",
    "print(YourEnum.B)\n",
    "YourEnum.A.name\n",
    "YourEnum.A.value"
   ]
  },
  {
   "cell_type": "code",
   "execution_count": 21,
   "metadata": {},
   "outputs": [
    {
     "data": {
      "text/plain": [
       "<CardNumber.TEN: 10>"
      ]
     },
     "execution_count": 21,
     "metadata": {},
     "output_type": "execute_result"
    },
    {
     "data": {
      "text/plain": [
       "<CardNumber.JACK: 10>"
      ]
     },
     "execution_count": 21,
     "metadata": {},
     "output_type": "execute_result"
    },
    {
     "data": {
      "text/plain": [
       "True"
      ]
     },
     "execution_count": 21,
     "metadata": {},
     "output_type": "execute_result"
    }
   ],
   "source": [
    "from aenum import NamedConstant\n",
    "\n",
    "class CardNumber(NamedConstant):\n",
    "    TEN      = 10\n",
    "    JACK     = 10\n",
    "\n",
    "CardNumber.TEN\n",
    "CardNumber.JACK\n",
    "\n",
    "CardNumber.TEN == CardNumber.JACK\n",
    "# CardNumber.TEN.name #AttributeError: 'CardNumber' object has no attribute 'name'"
   ]
  },
  {
   "attachments": {},
   "cell_type": "markdown",
   "metadata": {},
   "source": [
    "#mapper getitem()"
   ]
  },
  {
   "cell_type": "code",
   "execution_count": 64,
   "metadata": {},
   "outputs": [],
   "source": [
    "class MyDict:\n",
    "    data = {0:'zero', 1:'one'}\n",
    "    def __getitem__(self,key) -> str:\n",
    "        if key in self.data.keys():\n",
    "            return self.data[key]\n",
    "        else:\n",
    "            return '-'\n",
    "    def __setattr__(self, __name: str, __value) -> None:\n",
    "        # raise NotImplementedError('nono')\n",
    "        return NotImplemented\n",
    "    \n",
    "mydict = MyDict()"
   ]
  },
  {
   "cell_type": "code",
   "execution_count": 65,
   "metadata": {},
   "outputs": [
    {
     "data": {
      "text/plain": [
       "'zero'"
      ]
     },
     "execution_count": 65,
     "metadata": {},
     "output_type": "execute_result"
    },
    {
     "data": {
      "text/plain": [
       "'one'"
      ]
     },
     "execution_count": 65,
     "metadata": {},
     "output_type": "execute_result"
    },
    {
     "data": {
      "text/plain": [
       "'-'"
      ]
     },
     "execution_count": 65,
     "metadata": {},
     "output_type": "execute_result"
    },
    {
     "data": {
      "text/plain": [
       "'-'"
      ]
     },
     "execution_count": 65,
     "metadata": {},
     "output_type": "execute_result"
    },
    {
     "ename": "TypeError",
     "evalue": "'type' object does not support item assignment",
     "output_type": "error",
     "traceback": [
      "\u001b[0;31m---------------------------------------------------------------------------\u001b[0m",
      "\u001b[0;31mTypeError\u001b[0m                                 Traceback (most recent call last)",
      "Cell \u001b[0;32mIn[65], line 6\u001b[0m\n\u001b[1;32m      4\u001b[0m \u001b[39m# int(None)\u001b[39;00m\n\u001b[1;32m      5\u001b[0m mydict[\u001b[39m'\u001b[39m\u001b[39m1\u001b[39m\u001b[39m'\u001b[39m]\n\u001b[0;32m----> 6\u001b[0m MyDict[\u001b[39m'\u001b[39;49m\u001b[39ma\u001b[39;49m\u001b[39m'\u001b[39;49m] \u001b[39m=\u001b[39m \u001b[39m1\u001b[39m\n",
      "\u001b[0;31mTypeError\u001b[0m: 'type' object does not support item assignment"
     ]
    }
   ],
   "source": [
    "MyDict()[0]\n",
    "mydict[1]\n",
    "mydict[None]\n",
    "# int(None)\n",
    "mydict['1']\n",
    "MyDict['a'] = 1"
   ]
  },
  {
   "cell_type": "code",
   "execution_count": 37,
   "metadata": {},
   "outputs": [
    {
     "data": {
      "text/plain": [
       "True"
      ]
     },
     "execution_count": 37,
     "metadata": {},
     "output_type": "execute_result"
    },
    {
     "data": {
      "text/plain": [
       "True"
      ]
     },
     "execution_count": 37,
     "metadata": {},
     "output_type": "execute_result"
    }
   ],
   "source": [
    "float(1) == int(1)\n",
    "float(int(2)) == 2"
   ]
  },
  {
   "cell_type": "code",
   "execution_count": 49,
   "metadata": {},
   "outputs": [
    {
     "data": {
      "text/plain": [
       "'noen'"
      ]
     },
     "execution_count": 49,
     "metadata": {},
     "output_type": "execute_result"
    },
    {
     "data": {
      "text/plain": [
       "'zero'"
      ]
     },
     "execution_count": 49,
     "metadata": {},
     "output_type": "execute_result"
    },
    {
     "ename": "KeyError",
     "evalue": "10",
     "output_type": "error",
     "traceback": [
      "\u001b[0;31m---------------------------------------------------------------------------\u001b[0m",
      "\u001b[0;31mKeyError\u001b[0m                                  Traceback (most recent call last)",
      "Cell \u001b[0;32mIn[49], line 7\u001b[0m\n\u001b[1;32m      5\u001b[0m myMapper[\u001b[39mNone\u001b[39;00m]\n\u001b[1;32m      6\u001b[0m myMapper[\u001b[39m0\u001b[39m]\n\u001b[0;32m----> 7\u001b[0m myMapper[\u001b[39m10\u001b[39;49m]\n\u001b[1;32m      8\u001b[0m \u001b[39m# myMapper[11] = 1 # TypeError: 'mappingproxy' object does not support item assignment\u001b[39;00m\n",
      "\u001b[0;31mKeyError\u001b[0m: 10"
     ]
    }
   ],
   "source": [
    "from types import MappingProxyType\n",
    "\n",
    "myMapper = MappingProxyType({None:'noen', 0:'zero', 1:'one', _:'unknown'})\n",
    "\n",
    "myMapper[None]\n",
    "myMapper[0]\n",
    "myMapper[10]\n",
    "# myMapper[11] = 1 # TypeError: 'mappingproxy' object does not support item assignment\n"
   ]
  },
  {
   "attachments": {},
   "cell_type": "markdown",
   "metadata": {},
   "source": [
    "# Context manager with statement"
   ]
  },
  {
   "cell_type": "code",
   "execution_count": 5,
   "metadata": {},
   "outputs": [
    {
     "name": "stdout",
     "output_type": "stream",
     "text": [
      "1\n",
      "2\n",
      "3\n",
      "1\n",
      "2\n",
      "3\n"
     ]
    },
    {
     "ename": "AttributeError",
     "evalue": "'generator' object has no attribute '_value'",
     "output_type": "error",
     "traceback": [
      "\u001b[0;31m---------------------------------------------------------------------------\u001b[0m",
      "\u001b[0;31mAttributeError\u001b[0m                            Traceback (most recent call last)",
      "Cell \u001b[0;32mIn[5], line 22\u001b[0m\n\u001b[1;32m     19\u001b[0m \u001b[39mfor\u001b[39;00m value \u001b[39min\u001b[39;00m simpleReturnFun():\n\u001b[1;32m     20\u001b[0m     \u001b[39mprint\u001b[39m(value)\n\u001b[0;32m---> 22\u001b[0m singleGeneratorFun()\u001b[39m.\u001b[39;49m_value\n",
      "\u001b[0;31mAttributeError\u001b[0m: 'generator' object has no attribute '_value'"
     ]
    }
   ],
   "source": [
    "\n",
    "def simpleGeneratorFun():\n",
    "    yield from [1, 2, 3]\n",
    "\n",
    "def simpleReturnFun():\n",
    "    return [1, 2, 3]\n",
    "\n",
    "\n",
    "class SampleClass:\n",
    "    def __init__(self):\n",
    "        self._value = 1\n",
    "\n",
    "def singleGeneratorFun():\n",
    "    a = SampleClass()\n",
    "    yield a\n",
    "\n",
    "for value in simpleGeneratorFun():\n",
    "    print(value)\n",
    "\n",
    "for value in simpleReturnFun():\n",
    "    print(value)\n",
    "\n",
    "singleGeneratorFun()._value"
   ]
  },
  {
   "cell_type": "code",
   "execution_count": 9,
   "metadata": {},
   "outputs": [
    {
     "name": "stdout",
     "output_type": "stream",
     "text": [
      "Entering the context...\n",
      "Hello, World!\n",
      "Leaving the context...\n",
      "<class 'IndexError'>\n",
      "string index out of range\n",
      "<traceback object at 0x11c8cfa00>\n"
     ]
    },
    {
     "ename": "IndexError",
     "evalue": "string index out of range",
     "output_type": "error",
     "traceback": [
      "\u001b[0;31m---------------------------------------------------------------------------\u001b[0m",
      "\u001b[0;31mIndexError\u001b[0m                                Traceback (most recent call last)",
      "Cell \u001b[0;32mIn[9], line 11\u001b[0m\n\u001b[1;32m      9\u001b[0m \u001b[39mwith\u001b[39;00m HelloContextManager() \u001b[39mas\u001b[39;00m hello:\n\u001b[1;32m     10\u001b[0m     \u001b[39mprint\u001b[39m(hello)\n\u001b[0;32m---> 11\u001b[0m     hello[\u001b[39m100\u001b[39;49m]\n",
      "\u001b[0;31mIndexError\u001b[0m: string index out of range"
     ]
    }
   ],
   "source": [
    "class HelloContextManager:\n",
    "    def __enter__(self):\n",
    "        print(\"Entering the context...\")\n",
    "        return \"Hello, World!\"\n",
    "    def __exit__(self, exc_type, exc_value, exc_tb):\n",
    "        print(\"Leaving the context...\")\n",
    "        print(exc_type, exc_value, exc_tb, sep=\"\\n\")\n",
    "\n",
    "with HelloContextManager() as hello:\n",
    "    print(hello)\n",
    "    hello[100]\n"
   ]
  },
  {
   "cell_type": "code",
   "execution_count": 13,
   "metadata": {},
   "outputs": [
    {
     "name": "stdout",
     "output_type": "stream",
     "text": [
      "Entering the context...\n",
      "Hello, World!\n",
      "ab\n",
      "Leaving the context...\n"
     ]
    }
   ],
   "source": [
    "from contextlib import contextmanager\n",
    "\n",
    "@contextmanager\n",
    "def hello_context_manager():\n",
    "    print(\"Entering the context...\")\n",
    "    yield \"Hello, World!\"\n",
    "    print(\"Leaving the context...\")\n",
    "\n",
    "with hello_context_manager() as hello:\n",
    "    print(hello)\n",
    "    print('ab')"
   ]
  },
  {
   "attachments": {},
   "cell_type": "markdown",
   "metadata": {},
   "source": [
    "# singleton\n",
    "\n",
    "https://stackoverflow.com/questions/6760685/creating-a-singleton-in-python"
   ]
  },
  {
   "cell_type": "code",
   "execution_count": 18,
   "metadata": {},
   "outputs": [],
   "source": [
    "class Singleton(type):\n",
    "    _instances = {}\n",
    "\n",
    "    def __call__(cls, *args, **kwargs):\n",
    "        if cls not in cls._instances:\n",
    "            cls._instances[cls] = super(Singleton, cls).__call__(*args, **kwargs)\n",
    "        return cls._instances[cls]\n",
    "\n",
    "    def clear(cls):\n",
    "        cls._instances = None\n"
   ]
  },
  {
   "cell_type": "code",
   "execution_count": 20,
   "metadata": {},
   "outputs": [
    {
     "name": "stdout",
     "output_type": "stream",
     "text": [
      "1\n",
      "2\n"
     ]
    },
    {
     "data": {
      "text/plain": [
       "False"
      ]
     },
     "execution_count": 20,
     "metadata": {},
     "output_type": "execute_result"
    },
    {
     "data": {
      "text/plain": [
       "{__main__.Box: <__main__.Box at 0x10478b910>,\n",
       " __main__.Buttle: <__main__.Buttle at 0x1041c1d90>,\n",
       " __main__.Box: <__main__.Box at 0x1047f8d10>,\n",
       " __main__.Buttle: <__main__.Buttle at 0x1047de990>}"
      ]
     },
     "execution_count": 20,
     "metadata": {},
     "output_type": "execute_result"
    },
    {
     "data": {
      "text/plain": [
       "{__main__.Box: <__main__.Box at 0x10478b910>,\n",
       " __main__.Buttle: <__main__.Buttle at 0x1041c1d90>,\n",
       " __main__.Box: <__main__.Box at 0x1047f8d10>,\n",
       " __main__.Buttle: <__main__.Buttle at 0x1047de990>}"
      ]
     },
     "execution_count": 20,
     "metadata": {},
     "output_type": "execute_result"
    },
    {
     "data": {
      "text/plain": [
       "1"
      ]
     },
     "execution_count": 20,
     "metadata": {},
     "output_type": "execute_result"
    }
   ],
   "source": [
    "class Box(metaclass = Singleton):    \n",
    "    def __init__(self):\n",
    "        self._value = 0\n",
    "\n",
    "    def get_value(self):\n",
    "        return self._value\n",
    "\n",
    "    def set_value(self, value):\n",
    "        self._value = value\n",
    "\n",
    "class Buttle( metaclass = Singleton):    \n",
    "    def __init__(self):\n",
    "        self._value = 0\n",
    "\n",
    "    def get_value(self):\n",
    "        return self._value\n",
    "\n",
    "    def set_value(self, value):\n",
    "        self._value = value\n",
    "\n",
    "\n",
    "box = Box()\n",
    "buttle = Buttle()\n",
    "\n",
    "box.set_value(1)\n",
    "buttle.set_value(2)\n",
    "\n",
    "print(box.get_value())\n",
    "print(buttle.get_value())\n",
    "\n",
    "box == buttle\n",
    "Box._instances \n",
    "Buttle._instances\n",
    "\n",
    "box2 = Box()\n",
    "box2.get_value()\n",
    "\n",
    "Box.clear()\n",
    "Buttle.clear()"
   ]
  },
  {
   "cell_type": "code",
   "execution_count": null,
   "metadata": {},
   "outputs": [],
   "source": []
  }
 ],
 "metadata": {
  "kernelspec": {
   "display_name": ".venv",
   "language": "python",
   "name": "python3"
  },
  "language_info": {
   "codemirror_mode": {
    "name": "ipython",
    "version": 3
   },
   "file_extension": ".py",
   "mimetype": "text/x-python",
   "name": "python",
   "nbconvert_exporter": "python",
   "pygments_lexer": "ipython3",
   "version": "3.11.0"
  },
  "orig_nbformat": 4,
  "vscode": {
   "interpreter": {
    "hash": "4a1eaef496bc511aa3a29a0ade912e76310bc5373ad6c67f860a825cc0819305"
   }
  }
 },
 "nbformat": 4,
 "nbformat_minor": 2
}
