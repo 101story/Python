{
 "cells": [
  {
   "cell_type": "code",
   "execution_count": 1,
   "metadata": {},
   "outputs": [],
   "source": [
    "from IPython.core.interactiveshell import InteractiveShell\n",
    "InteractiveShell.ast_node_interactivity = \"all\""
   ]
  },
  {
   "attachments": {},
   "cell_type": "markdown",
   "metadata": {},
   "source": [
    "# protocol"
   ]
  },
  {
   "cell_type": "code",
   "execution_count": 3,
   "metadata": {},
   "outputs": [
    {
     "name": "stdout",
     "output_type": "stream",
     "text": [
      "ㄱㄴㄷㄹㅁㅂㅅ\n",
      "가나다라마바사\n",
      "bow-wow\n"
     ]
    }
   ],
   "source": [
    "from typing import Protocol\n",
    "\n",
    "\n",
    "class ABCProtocal(Protocol):\n",
    "    def consonant(self) -> str:\n",
    "        ...\n",
    "\n",
    "    def vowel(self) -> str:\n",
    "        ...\n",
    "\n",
    "\n",
    "class Korean:\n",
    "    def consonant(self) -> str:\n",
    "        return ('ㄱㄴㄷㄹㅁㅂㅅ')\n",
    "\n",
    "    def vowel(self) -> str:\n",
    "        return ('가나다라마바사')\n",
    "\n",
    "class Dog:\n",
    "    def vowel(self) -> str:\n",
    "        return (\"bow-wow\")\n",
    "\n",
    "class Speak:\n",
    "    def __init__(self, lang: ABCProtocal) -> None:\n",
    "        self.lang = lang\n",
    "\n",
    "    def say_consonant(self):\n",
    "        print(self.lang.consonant())\n",
    "\n",
    "    def say_vowel(self):\n",
    "        print(self.lang.vowel())\n",
    "\n",
    "a = Speak(Korean())\n",
    "a.say_consonant()\n",
    "a.say_vowel()\n",
    "\n",
    "b = Speak(Dog())\n",
    "b.say_vowel()"
   ]
  },
  {
   "attachments": {},
   "cell_type": "markdown",
   "metadata": {},
   "source": [
    "# Final"
   ]
  },
  {
   "cell_type": "code",
   "execution_count": 7,
   "metadata": {},
   "outputs": [],
   "source": [
    "from typing import Final\n",
    "\n",
    "TIME_OUT: Final[int] = 10\n",
    "\n",
    "# TIME_OUT = 1\n"
   ]
  },
  {
   "attachments": {},
   "cell_type": "markdown",
   "metadata": {},
   "source": [
    "# callable"
   ]
  },
  {
   "cell_type": "code",
   "execution_count": 15,
   "metadata": {},
   "outputs": [
    {
     "name": "stdout",
     "output_type": "stream",
     "text": [
      "hi <__main__.A object at 0x113d71c90>\n",
      "hi A\n"
     ]
    }
   ],
   "source": [
    "from typing import Callable\n",
    "\n",
    "#str 타입의 인자를 하나 받고, 결과값을 str로 반환\n",
    "def test_callable(hi: Callable[[object], str]) -> None:\n",
    "    print(f'hi {hi()}')\n",
    "\n",
    "class A:\n",
    "    def __call__(self):\n",
    "        return 'A'\n",
    "\n",
    "test_callable(A)\n",
    "a = A()\n",
    "test_callable(a)\n"
   ]
  },
  {
   "attachments": {},
   "cell_type": "markdown",
   "metadata": {},
   "source": [
    "# iterable\n",
    "\n",
    "- iterable 의 의미는 member를 하나씩 차례로 반환 가능한 object\n",
    "- iterator 는 next() 메소드로 데이터를 순차적으로 호출 가능한 object"
   ]
  },
  {
   "cell_type": "code",
   "execution_count": 18,
   "metadata": {},
   "outputs": [
    {
     "name": "stdout",
     "output_type": "stream",
     "text": [
      "<__main__.Increasing object at 0x113d7e8d0>\n",
      "<class '__main__.Increasing'>\n",
      "1\n",
      "2\n",
      "3\n"
     ]
    }
   ],
   "source": [
    "class Increasing_iterable:\n",
    "    # an iterable class \n",
    "\n",
    "    def __init__(self, max):\n",
    "        self.max = max\n",
    "        self.n = 1\n",
    "\n",
    "    def __iter__(self):\n",
    "        while self.n <= self.max:\n",
    "            yield self.n\n",
    "            self.n += 1\n",
    "\n",
    "three = Increasing_iterable(3)\n",
    "print(three)\n",
    "print(type(three))\n",
    "\n",
    "for item in three:\n",
    "    print(item)"
   ]
  },
  {
   "cell_type": "code",
   "execution_count": 23,
   "metadata": {},
   "outputs": [
    {
     "name": "stdout",
     "output_type": "stream",
     "text": [
      "<__main__.Increasing_iterator object at 0x1137f6210>\n",
      "<class '__main__.Increasing_iterator'>\n"
     ]
    },
    {
     "data": {
      "text/plain": [
       "1"
      ]
     },
     "execution_count": 23,
     "metadata": {},
     "output_type": "execute_result"
    },
    {
     "data": {
      "text/plain": [
       "2"
      ]
     },
     "execution_count": 23,
     "metadata": {},
     "output_type": "execute_result"
    },
    {
     "data": {
      "text/plain": [
       "3"
      ]
     },
     "execution_count": 23,
     "metadata": {},
     "output_type": "execute_result"
    },
    {
     "ename": "StopIteration",
     "evalue": "",
     "output_type": "error",
     "traceback": [
      "\u001b[0;31m---------------------------------------------------------------------------\u001b[0m",
      "\u001b[0;31mStopIteration\u001b[0m                             Traceback (most recent call last)",
      "Cell \u001b[0;32mIn[23], line 26\u001b[0m\n\u001b[1;32m     24\u001b[0m \u001b[39mnext\u001b[39m(iterator)\n\u001b[1;32m     25\u001b[0m \u001b[39mnext\u001b[39m(iterator)\n\u001b[0;32m---> 26\u001b[0m \u001b[39mnext\u001b[39;49m(iterator)\n",
      "Cell \u001b[0;32mIn[23], line 16\u001b[0m, in \u001b[0;36mIncreasing_iterator.__next__\u001b[0;34m(self)\u001b[0m\n\u001b[1;32m     14\u001b[0m     \u001b[39mreturn\u001b[39;00m \u001b[39mself\u001b[39m\u001b[39m.\u001b[39mn \u001b[39m-\u001b[39m \u001b[39m1\u001b[39m\n\u001b[1;32m     15\u001b[0m \u001b[39melse\u001b[39;00m:\n\u001b[0;32m---> 16\u001b[0m     \u001b[39mraise\u001b[39;00m \u001b[39mStopIteration\u001b[39;00m\n",
      "\u001b[0;31mStopIteration\u001b[0m: "
     ]
    }
   ],
   "source": [
    "class Increasing_iterator:\n",
    "    # iterator class\n",
    "\n",
    "    def __init__(self, max = 10):\n",
    "        self.max = max\n",
    "        self.n = 1\n",
    "\n",
    "    def __iter__(self):\n",
    "        return self\n",
    "\n",
    "    def __next__(self):\n",
    "        while self.n <= self.max:\n",
    "            self.n += 1\n",
    "            return self.n - 1\n",
    "        else:\n",
    "            raise StopIteration\n",
    "\n",
    "three = Increasing_iterator(3)\n",
    "print(three)\n",
    "print(type(three))\n",
    "\n",
    "iterator = three\n",
    "next(iterator)\n",
    "next(iterator)\n",
    "next(iterator)\n",
    "next(iterator)\n"
   ]
  },
  {
   "cell_type": "code",
   "execution_count": null,
   "metadata": {},
   "outputs": [],
   "source": []
  }
 ],
 "metadata": {
  "kernelspec": {
   "display_name": "practice-python",
   "language": "python",
   "name": "python3"
  },
  "language_info": {
   "codemirror_mode": {
    "name": "ipython",
    "version": 3
   },
   "file_extension": ".py",
   "mimetype": "text/x-python",
   "name": "python",
   "nbconvert_exporter": "python",
   "pygments_lexer": "ipython3",
   "version": "3.11.0"
  },
  "orig_nbformat": 4
 },
 "nbformat": 4,
 "nbformat_minor": 2
}
